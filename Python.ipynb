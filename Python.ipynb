{
 "cells": [
  {
   "cell_type": "markdown",
   "metadata": {},
   "source": [
    " ### Start learning python by printing hello world"
   ]
  },
  {
   "cell_type": "code",
   "execution_count": 1,
   "metadata": {
    "collapsed": false
   },
   "outputs": [
    {
     "name": "stdout",
     "output_type": "stream",
     "text": [
      "Hello World!!!\n"
     ]
    }
   ],
   "source": [
    "print(\"Hello World!!!\")"
   ]
  },
  {
   "cell_type": "markdown",
   "metadata": {
    "collapsed": true
   },
   "source": [
    "#### Lets learn something about regex!\n",
    "\n",
    "Regex:\n",
    "\n",
    "Both unicode strings and 8-bit strings can be used, but both cannot be mixed\n",
    "\n",
    "##### .\t: any character except newline\n",
    "##### ^\t: matches start of string or after newline\n",
    "##### $\t: end of string or just before newline\n",
    "##### *\t: 0 or more repetitions of preceding RE\n",
    "##### +\t: 1 or more repetitions of preceding RE\n",
    "##### ?\t: 0 or 1 occurrences of preceding RE\n",
    "##### *?, +?, ??\t: greedy, match as much as they can\n",
    "##### {m}\t:exactly m copies of preceding RE\n",
    "##### {m, n}\t: between m and n copies\n",
    "##### {m, n}?\t: non-greedy approach, as less as possible matches\n",
    "##### [ ]\t: set of characters\n",
    "\n",
    "\n",
    "Pattern.search\t\n",
    "Pattern.match\t\n",
    "Pattern.fullmatch\t: only from python3\n",
    "\n",
    "Re.search: returns a match object if there is match anywhere in the string\n",
    "\n",
    "Re.findall: returns a list containing all matches\n",
    "\n",
    "Re.sub: replaces the matches with text of our choice\n",
    "\n",
    "Re.split: splits string at matches\n"
   ]
  },
  {
   "cell_type": "code",
   "execution_count": 1,
   "metadata": {
    "collapsed": true
   },
   "outputs": [],
   "source": [
    "import re"
   ]
  },
  {
   "cell_type": "code",
   "execution_count": 4,
   "metadata": {
    "collapsed": false
   },
   "outputs": [
    {
     "ename": "AttributeError",
     "evalue": "'_sre.SRE_Pattern' object has no attribute 'fullmatch'",
     "output_type": "error",
     "traceback": [
      "\u001b[0;31m---------------------------------------------------------------------------\u001b[0m",
      "\u001b[0;31mAttributeError\u001b[0m                            Traceback (most recent call last)",
      "\u001b[0;32m<ipython-input-4-e9823b017afe>\u001b[0m in \u001b[0;36m<module>\u001b[0;34m()\u001b[0m\n\u001b[1;32m      2\u001b[0m \u001b[0mpattern\u001b[0m\u001b[0;34m.\u001b[0m\u001b[0msearch\u001b[0m\u001b[0;34m(\u001b[0m\u001b[0;34m\"dog\"\u001b[0m\u001b[0;34m)\u001b[0m\u001b[0;34m\u001b[0m\u001b[0m\n\u001b[1;32m      3\u001b[0m \u001b[0mpattern\u001b[0m\u001b[0;34m.\u001b[0m\u001b[0mmatch\u001b[0m\u001b[0;34m(\u001b[0m\u001b[0;34m\"dog\"\u001b[0m\u001b[0;34m)\u001b[0m\u001b[0;34m\u001b[0m\u001b[0m\n\u001b[0;32m----> 4\u001b[0;31m \u001b[0mpattern\u001b[0m\u001b[0;34m.\u001b[0m\u001b[0mfullmatch\u001b[0m\u001b[0;34m(\u001b[0m\u001b[0;34m\"dog\"\u001b[0m\u001b[0;34m)\u001b[0m\u001b[0;34m\u001b[0m\u001b[0m\n\u001b[0m",
      "\u001b[0;31mAttributeError\u001b[0m: '_sre.SRE_Pattern' object has no attribute 'fullmatch'"
     ]
    }
   ],
   "source": [
    "pattern = re.compile(\"d\")\n",
    "pattern.search(\"dog\")\n",
    "pattern.match(\"dog\")\n",
    "#this line is giving error, may be supported only in python3\n",
    "#pattern.fullmatch(\"dog\")"
   ]
  },
  {
   "cell_type": "code",
   "execution_count": 23,
   "metadata": {
    "collapsed": false
   },
   "outputs": [
    {
     "name": "stdout",
     "output_type": "stream",
     "text": [
      "([], 5, 'The rain in NYC', (5, 7), 'ai')\n"
     ]
    }
   ],
   "source": [
    "s = \"The rain in NYC\"\n",
    "#blank string expected in output due to ^\n",
    "f = re.findall(\"^ai.*\", s)\n",
    "#se will be None when \"no match\"\n",
    "#match object contains information related to matched string\n",
    "se = re.search(\"ai*\", s)\n",
    "print(f, se.start(), se.string, se.span(), se.group())"
   ]
  },
  {
   "cell_type": "code",
   "execution_count": 20,
   "metadata": {
    "collapsed": false
   },
   "outputs": [
    {
     "name": "stdout",
     "output_type": "stream",
     "text": [
      "['The', 'rain', 'in', 'NYC']\n"
     ]
    }
   ],
   "source": [
    "s = \"The rain in NYC\"\n",
    "spl = re.split(\"\\s\", s)\n",
    "print(spl)"
   ]
  },
  {
   "cell_type": "code",
   "execution_count": null,
   "metadata": {
    "collapsed": true
   },
   "outputs": [],
   "source": []
  }
 ],
 "metadata": {
  "kernelspec": {
   "display_name": "Python 2",
   "language": "python",
   "name": "python2"
  },
  "language_info": {
   "codemirror_mode": {
    "name": "ipython",
    "version": 2
   },
   "file_extension": ".py",
   "mimetype": "text/x-python",
   "name": "python",
   "nbconvert_exporter": "python",
   "pygments_lexer": "ipython2",
   "version": "2.7.15"
  }
 },
 "nbformat": 4,
 "nbformat_minor": 2
}
